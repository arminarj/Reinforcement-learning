{
  "nbformat": 4,
  "nbformat_minor": 0,
  "metadata": {
    "kernelspec": {
      "display_name": "Python 3",
      "language": "python",
      "name": "python3"
    },
    "language_info": {
      "codemirror_mode": {
        "name": "ipython",
        "version": 2
      },
      "file_extension": ".py",
      "mimetype": "text/x-python",
      "name": "python",
      "nbconvert_exporter": "python",
      "pygments_lexer": "ipython2",
      "version": "2.7.16"
    },
    "colab": {
      "name": "ML_HA3.ipynb",
      "provenance": [],
      "collapsed_sections": [],
      "toc_visible": true,
      "include_colab_link": true
    }
  },
  "cells": [
    {
      "cell_type": "markdown",
      "metadata": {
        "id": "view-in-github",
        "colab_type": "text"
      },
      "source": [
        "<a href=\"https://colab.research.google.com/github/arminarj/Reinforcement-learning/blob/master/FrozenLake_Qlearning_SARSA.ipynb\" target=\"_parent\"><img src=\"https://colab.research.google.com/assets/colab-badge.svg\" alt=\"Open In Colab\"/></a>"
      ]
    },
    {
      "cell_type": "markdown",
      "metadata": {
        "id": "CckVhtPvP2bb",
        "colab_type": "text"
      },
      "source": [
        "### Frozen Lake 8*8"
      ]
    },
    {
      "cell_type": "markdown",
      "metadata": {
        "id": "36ewqO8oP2bb",
        "colab_type": "text"
      },
      "source": [
        "Winter is here. You and your friends were tossing around a frisbee at the park when you made a wild throw that left the frisbee out in the middle of the lake. The water is mostly frozen, but there are a few holes where the ice has melted. If you step into one of those holes, you'll fall into the freezing water. At this time, there's an international frisbee shortage, so it's absolutely imperative that you navigate across the lake and retrieve the disc. However, the ice is slippery, so you won't always move in the direction you intend.\n",
        "\n",
        "The surface is described using a grid like the following:\n",
        "\n",
        "SFFF       (S: starting point, safe)\n",
        "\n",
        "FHFH       (F: frozen surface, safe)\n",
        "\n",
        "FFFH       (H: hole, fall to your doom)\n",
        "\n",
        "HFFG       (G: goal, where the frisbee is located)\n",
        "\n",
        "\n",
        "The episode ends when you reach the goal or fall in a hole. You receive a reward of 100 if you reach the goal, -100 if you fall into the hole, and -0.1 for each step you take."
      ]
    },
    {
      "cell_type": "markdown",
      "metadata": {
        "id": "3_Fi5UO3P2bc",
        "colab_type": "text"
      },
      "source": [
        "### Getting Started"
      ]
    },
    {
      "cell_type": "markdown",
      "metadata": {
        "id": "h5ohEhqNP2bd",
        "colab_type": "text"
      },
      "source": [
        "Run the following code and observe the result."
      ]
    },
    {
      "cell_type": "code",
      "metadata": {
        "scrolled": true,
        "id": "utfMlIALP2bd",
        "colab_type": "code",
        "outputId": "d0d47567-28cb-4355-d1b5-5ad8b54d04d3",
        "colab": {
          "base_uri": "https://localhost:8080/",
          "height": 173
        }
      },
      "source": [
        "%run FrozenLake.ipynb\n",
        "\n",
        "env = FrozenLakeEnv()\n",
        "env.reset()\n",
        "\n",
        "for _ in range(10):\n",
        "    # env.render()\n",
        "    state, reward, done, info = env.step(env.action_space.sample()) # Take a random action\n",
        "    \n",
        "env.close()"
      ],
      "execution_count": 1,
      "outputs": [
        {
          "output_type": "stream",
          "text": [
            "\n",
            "\u001b[41mS\u001b[0mFFFFFFF\n",
            "FFFFFFFF\n",
            "FFFHFFFF\n",
            "FFFFFHFF\n",
            "FFFHFFFF\n",
            "FFHFFFHF\n",
            "FHFFHFHF\n",
            "FFFHFFFG\n"
          ],
          "name": "stdout"
        }
      ]
    },
    {
      "cell_type": "markdown",
      "metadata": {
        "id": "YE-DN8VKP2bi",
        "colab_type": "text"
      },
      "source": [
        "What are the action space and the state space?"
      ]
    },
    {
      "cell_type": "code",
      "metadata": {
        "id": "d1de-YMbP2bj",
        "colab_type": "code",
        "outputId": "109fd6c5-59de-4a8b-f842-fadc7b6061af",
        "colab": {
          "base_uri": "https://localhost:8080/",
          "height": 52
        }
      },
      "source": [
        "print(env.action_space)\n",
        "print(env.observation_space)"
      ],
      "execution_count": 2,
      "outputs": [
        {
          "output_type": "stream",
          "text": [
            "Discrete(4)\n",
            "Discrete(64)\n"
          ],
          "name": "stdout"
        }
      ]
    },
    {
      "cell_type": "markdown",
      "metadata": {
        "id": "7GApp8sKP2b1",
        "colab_type": "text"
      },
      "source": [
        "### Q-Learning"
      ]
    },
    {
      "cell_type": "markdown",
      "metadata": {
        "id": "ZcBREqxJP2b1",
        "colab_type": "text"
      },
      "source": [
        "Find the best policy using the Q-Learning algorithm.\n",
        "\n",
        "Use an epsilon-greedy policy with decaying epsilon."
      ]
    },
    {
      "cell_type": "markdown",
      "metadata": {
        "id": "kgoZ5gVgP2b2",
        "colab_type": "text"
      },
      "source": [
        "### Tunining :\n",
        "for the enviroment of this game I've tuned the Alfa and Gamma that reaches the **shortest** and **safest** path that makes the agent reach the goal as many as it can. \n",
        "i've plotted the histogram of reaching the goal and holes, if we run the agent after learning the best Q-table it can reach the best resualts with this tunning ."
      ]
    },
    {
      "cell_type": "code",
      "metadata": {
        "id": "6yLytLaYP2b3",
        "colab_type": "code",
        "outputId": "a7d95575-22d5-48d4-c989-9a546368d79b",
        "colab": {
          "base_uri": "https://localhost:8080/",
          "height": 173
        }
      },
      "source": [
        "%run FrozenLake.ipynb\n",
        "\n",
        "env = FrozenLakeEnv()\n",
        "env.reset()\n",
        "\n",
        "\n",
        "## Fine Tune :\n",
        "# alfa = 0.1 gamma =0.20, epsilon =0.30\n",
        "\n",
        "class Q_learning():\n",
        "    \n",
        "    def __init__(self, learning_rate=0.1, gamma=0.20, epsilon=0.30,\n",
        "                 max_steps=100, episode_number=10000):\n",
        "        self.Q = np.zeros((env.observation_space.n, env.action_space.n))\n",
        "        self.learning_rate = learning_rate\n",
        "        self.gamma = gamma\n",
        "        self.epsilon = epsilon\n",
        "        self.max_steps = max_steps\n",
        "        self.episode_number = episode_number\n",
        "        self.total_reward = 0\n",
        "    \n",
        "    def update_Q(self, state, new_state, reward, action):\n",
        "        self.total_reward += reward\n",
        "        predict = self.Q[state, action]\n",
        "        target = reward + self.gamma * np.max(self.Q[new_state, :])\n",
        "        self.Q[state, action] = self.Q[state, action] + self.learning_rate * (target - predict)\n",
        "    \n",
        "    \n",
        "    def policy(self, state):\n",
        "        action=0\n",
        "        if np.random.uniform(0, 1) < self.epsilon:\n",
        "            action = env.action_space.sample()\n",
        "        else:\n",
        "            action = np.argmax(self.Q[state, :])\n",
        "        return action\n",
        "\n",
        "    def update_exploration(self):\n",
        "        self.epsilon -= self.epsilon * 0.01\n",
        "        self.learning_rate -= self.learning_rate * 0.001\n",
        "\n",
        "\n",
        "agent =  Q_learning()\n",
        "done_list = []\n",
        "t_list = []\n",
        "for episode in range(agent.episode_number):\n",
        "    \n",
        "    agent.update_exploration()\n",
        "    state = env.reset()\n",
        "    t = 0\n",
        "    while t < agent.max_steps:\n",
        "        choosed_action = agent.policy(state)  \n",
        "        new_state, reward, done, _ = env.step(choosed_action)  \n",
        "        agent.update_Q(state, new_state, reward, choosed_action)\n",
        "        state = new_state\n",
        "        t += 1\n",
        "        if done:\n",
        "            if reward > 0 :\n",
        "                t_list.append(t)\n",
        "            done_list.append(reward)\n",
        "            break\n",
        "        if t == agent.max_steps:\n",
        "            done_list.append(reward)\n",
        "        \n",
        "# print(agent.Q)\n",
        "# env.render()\n",
        "env.close()"
      ],
      "execution_count": 3,
      "outputs": [
        {
          "output_type": "stream",
          "text": [
            "\n",
            "\u001b[41mS\u001b[0mFFFFFFF\n",
            "FFFFFFFF\n",
            "FFFHFFFF\n",
            "FFFFFHFF\n",
            "FFFHFFFF\n",
            "FFHFFFHF\n",
            "FHFFHFHF\n",
            "FFFHFFFG\n"
          ],
          "name": "stdout"
        }
      ]
    },
    {
      "cell_type": "code",
      "metadata": {
        "id": "endOqV62P2b5",
        "colab_type": "code",
        "outputId": "ec6e2cc6-4c34-4763-f409-1f9d33c281fc",
        "colab": {
          "base_uri": "https://localhost:8080/",
          "height": 543
        }
      },
      "source": [
        "import matplotlib.pyplot as plt\n",
        "import pandas as pd\n",
        "%matplotlib inline\n",
        "\n",
        "t1_list = pd.DataFrame(t_list)\n",
        "t1_list = t1_list.rolling(100).mean().reset_index()\n",
        "t1_list[0].plot()\n",
        "plt.figure()\n",
        "plt.hist(done_list)\n",
        "plt.title('whole game histogram')\n",
        "plt.xlabel('score')\n",
        "plt.ylabel('times')\n",
        "plt.show()\n"
      ],
      "execution_count": 37,
      "outputs": [
        {
          "output_type": "display_data",
          "data": {
            "image/png": "[encoded data removed]",
            "text/plain": [
              "<Figure size 432x288 with 1 Axes>"
            ]
          },
          "metadata": {
            "tags": []
          }
        },
        {
          "output_type": "display_data",
          "data": {
            "image/png": "[encoded data removed]",
            "text/plain": [
              "<Figure size 432x288 with 1 Axes>"
            ]
          },
          "metadata": {
            "tags": []
          }
        }
      ]
    },
    {
      "cell_type": "markdown",
      "metadata": {
        "id": "qpTYcpNHP2b8",
        "colab_type": "text"
      },
      "source": [
        "Print what the best action in each state is."
      ]
    },
    {
      "cell_type": "code",
      "metadata": {
        "id": "R_RitSA9P2b8",
        "colab_type": "code",
        "outputId": "fdafe9bf-2a86-4e29-81f1-953109213413",
        "colab": {
          "base_uri": "https://localhost:8080/",
          "height": 131
        }
      },
      "source": [
        "best = []\n",
        "for state in range(64):\n",
        "    best.append(np.argmax(agent.Q[state, :]))\n",
        "    if state % 8 == 0 :\n",
        "        print best\n",
        "        best = []"
      ],
      "execution_count": 5,
      "outputs": [
        {
          "output_type": "error",
          "ename": "SyntaxError",
          "evalue": "ignored",
          "traceback": [
            "\u001b[0;36m  File \u001b[0;32m\"<ipython-input-5-dc2631da491f>\"\u001b[0;36m, line \u001b[0;32m5\u001b[0m\n\u001b[0;31m    print best\u001b[0m\n\u001b[0m             ^\u001b[0m\n\u001b[0;31mSyntaxError\u001b[0m\u001b[0;31m:\u001b[0m Missing parentheses in call to 'print'. Did you mean print(best)?\n"
          ]
        }
      ]
    },
    {
      "cell_type": "markdown",
      "metadata": {
        "id": "NLchau85P2b_",
        "colab_type": "text"
      },
      "source": [
        "Run your agent for one episode while acting greedy with respect to the learned policy.\n",
        "\n",
        "Show your result and print the total reward that your agent has received."
      ]
    },
    {
      "cell_type": "code",
      "metadata": {
        "id": "jpDdjzZ2P2b_",
        "colab_type": "code",
        "outputId": "2f7e094f-c457-463c-ead9-dc7bf8c68b6c",
        "colab": {}
      },
      "source": [
        "done_list = []\n",
        "t_list = []\n",
        "for episode in range(1):\n",
        "    \n",
        "    agent.update_exploration()\n",
        "    state = env.reset()\n",
        "    t = 0\n",
        "    while t < agent.max_steps:\n",
        "        choosed_action = agent.policy(state)  \n",
        "        new_state, reward, done, _ = env.step(choosed_action)  \n",
        "        agent.update_Q(state, new_state, reward, choosed_action)\n",
        "        state = new_state\n",
        "        t += 1\n",
        "        if done:\n",
        "            if reward > 0 :\n",
        "                t_list.append(t)\n",
        "            print(reward)\n",
        "            done_list.append(reward)\n",
        "            break\n",
        "        if t == agent.max_steps:\n",
        "            done_list.append(reward)\n",
        "\n",
        "env.close()\n",
        "\n"
      ],
      "execution_count": 0,
      "outputs": [
        {
          "output_type": "stream",
          "text": [
            "99.9\n"
          ],
          "name": "stdout"
        }
      ]
    },
    {
      "cell_type": "markdown",
      "metadata": {
        "id": "K-HjeN0LP2cB",
        "colab_type": "text"
      },
      "source": [
        "### SARSA"
      ]
    },
    {
      "cell_type": "markdown",
      "metadata": {
        "id": "p5QBh-YBP2cC",
        "colab_type": "text"
      },
      "source": [
        "Find the best policy using the SARSA algorithm.\n",
        "\n",
        "Use an epsilon-greedy policy with decaying epsilon."
      ]
    },
    {
      "cell_type": "code",
      "metadata": {
        "id": "Kl77QMLEP2cD",
        "colab_type": "code",
        "outputId": "da7ea44d-38ec-47a2-f50e-35af5f4a9eab",
        "colab": {
          "base_uri": "https://localhost:8080/",
          "height": 173
        }
      },
      "source": [
        "%run FrozenLake.ipynb\n",
        "\n",
        "env = FrozenLakeEnv()\n",
        "_  = env.reset()\n",
        "\n",
        "\n",
        "## best tune : earning_rate=0.9, gamma=0.7, epsilon=0.3\n",
        "class SARSA():\n",
        "    \n",
        "    def __init__(self, learning_rate=0.95, gamma=0.6, epsilon=0.3,\n",
        "                 max_steps=300, episode_number=1):\n",
        "        self.Q = np.zeros((env.observation_space.n, env.action_space.n))\n",
        "        self.number_state = env.observation_space.n\n",
        "        self.number_action = env.action_space.n\n",
        "        self.learning_rate = learning_rate\n",
        "        self.gamma = gamma\n",
        "        self.epsilon = epsilon\n",
        "        self.max_steps = max_steps\n",
        "        self.episode_number = episode_number\n",
        "    \n",
        "    def update_Q(self, state, new_state, reward, action, new_action):\n",
        "        '''\n",
        "        SARSA Q(s,a) updating,\n",
        "        target : reward + Q(s', a')\n",
        "        predict : Q(s,a)\n",
        "        '''\n",
        "        predict = self.Q[state, action]\n",
        "        target = reward + self.gamma * (self.Q[new_state, new_action])\n",
        "        self.Q[state, action] = self.Q[state, action] + self.learning_rate * (target - predict)\n",
        "    \n",
        "    \n",
        "    def policy(self, state):\n",
        "        '''\n",
        "        Sof-eps policy :\n",
        "        1 - eps + eps/(number of actions) for argmax()\n",
        "        eps/(number of actions) for exploration of other actions\n",
        "        '''\n",
        "        action=0\n",
        "        self.update_exploration()\n",
        "        if np.random.uniform(0, 1) < self.epsilon:\n",
        "            action = env.action_space.sample()\n",
        "        else:\n",
        "            action = np.argmax(self.Q[state, :])\n",
        "        return action\n",
        "    \n",
        "    def update_exploration(self):\n",
        "        self.epsilon -= self.epsilon * 0.01\n",
        "        self.learning_rate -= self.learning_rate * 0\n",
        "\n",
        "    def best_action(self):\n",
        "        best_action = np.argmax(self.Q, axis=1)\n",
        "        for index, action in enumerate(best_action):\n",
        "            if index % 8 == 0 :\n",
        "                print()\n",
        "            print(action, end =\" \")\n",
        "\n",
        "\n",
        "        \n",
        "\n",
        "\n",
        "agent =  SARSA()\n",
        "done_list = []\n",
        "t_list = []\n",
        "    \n",
        "t = 0\n",
        "\n",
        "for episod in range(1000):\n",
        "    agent.update_exploration()\n",
        "    state = env.reset()\n",
        "    done = False\n",
        "    t = 0\n",
        "    while t < agent.max_steps:\n",
        "        choosed_action = agent.policy(state)\n",
        "        new_state, reward, done, _ = env.step(choosed_action)\n",
        "        new_action = agent.policy(new_state)\n",
        "        agent.update_Q(state, new_state, reward, choosed_action, new_action)\n",
        "        state = new_state\n",
        "        choosed_action = new_action \n",
        "        t += 1\n",
        "        if done:\n",
        "            if reward > 0 :\n",
        "                t_list.append(t)\n",
        "            done_list.append(reward)\n",
        "            break\n",
        "        if t == agent.max_steps:\n",
        "                done_list.append(reward)\n",
        "        \n",
        "        \n",
        "env.close()"
      ],
      "execution_count": 48,
      "outputs": [
        {
          "output_type": "stream",
          "text": [
            "\n",
            "\u001b[41mS\u001b[0mFFFFFFF\n",
            "FFFFFFFF\n",
            "FFFHFFFF\n",
            "FFFFFHFF\n",
            "FFFHFFFF\n",
            "FFHFFFHF\n",
            "FHFFHFHF\n",
            "FFFHFFFG\n"
          ],
          "name": "stdout"
        }
      ]
    },
    {
      "cell_type": "code",
      "metadata": {
        "id": "ynxPZ4gnP2cF",
        "colab_type": "code",
        "outputId": "d1b86caa-3b4e-4299-8522-0b236d389af4",
        "colab": {
          "base_uri": "https://localhost:8080/",
          "height": 543
        }
      },
      "source": [
        "import matplotlib.pyplot as plt\n",
        "import pandas as pd\n",
        "%matplotlib inline\n",
        "\n",
        "t1_list = pd.DataFrame(t_list)\n",
        "t1_list = t1_list.rolling(10).mean().reset_index()\n",
        "t1_list.plot()\n",
        "plt.figure()\n",
        "plt.hist(done_list)\n",
        "plt.title('whole game histogram')\n",
        "plt.xlabel('score')\n",
        "plt.ylabel('times')\n",
        "plt.show()\n"
      ],
      "execution_count": 49,
      "outputs": [
        {
          "output_type": "display_data",
          "data": {
            "image/png": "[encoded data removed]",
            "text/plain": [
              "<Figure size 432x288 with 1 Axes>"
            ]
          },
          "metadata": {
            "tags": []
          }
        },
        {
          "output_type": "display_data",
          "data": {
            "image/png": "[encoded data removed]",
            "text/plain": [
              "<Figure size 432x288 with 1 Axes>"
            ]
          },
          "metadata": {
            "tags": []
          }
        }
      ]
    },
    {
      "cell_type": "markdown",
      "metadata": {
        "id": "IjwNbVsEP2cH",
        "colab_type": "text"
      },
      "source": [
        "Print what the best action in each state is."
      ]
    },
    {
      "cell_type": "code",
      "metadata": {
        "id": "mPcHauJWP2cI",
        "colab_type": "code",
        "colab": {
          "base_uri": "https://localhost:8080/",
          "height": 173
        },
        "outputId": "407e3edf-ad1e-45b7-96c0-7a5fbff80740"
      },
      "source": [
        "agent.best_action()"
      ],
      "execution_count": 50,
      "outputs": [
        {
          "output_type": "stream",
          "text": [
            "\n",
            "2 2 2 2 2 1 2 1 \n",
            "2 3 3 3 3 3 3 1 \n",
            "0 3 0 0 2 3 0 2 \n",
            "0 0 2 2 0 0 2 2 \n",
            "0 0 3 0 2 1 3 2 \n",
            "0 0 0 2 3 0 0 2 \n",
            "0 0 2 0 0 1 0 2 \n",
            "0 1 0 0 3 0 0 0 "
          ],
          "name": "stdout"
        }
      ]
    },
    {
      "cell_type": "code",
      "metadata": {
        "id": "JVwxkALKOLZm",
        "colab_type": "code",
        "colab": {}
      },
      "source": [
        ""
      ],
      "execution_count": 0,
      "outputs": []
    }
  ]
}